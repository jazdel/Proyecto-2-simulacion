{
 "cells": [
  {
   "cell_type": "markdown",
   "metadata": {},
   "source": [
    "# Cálculo del campo eléctrico E en un cascaron esférico por medio de integración Monte Carlo\n",
    "\n",
    "\n",
    "### 1.2 Objetivos.\n",
    "\n",
    "#### 1.1 Objetivo general:\n",
    ">- Aplicar la integración Monte Carlo para encontrar el campo eléctrico de un cascarón esférico por medio de la Ley de Coulomb.\n",
    " #### 1.2 Objetivos específicos:\n",
    ">- Lograr realizar una integral triple usando Monte Carlo.\n",
    ">- Poder realizar en segundos el cálculo de una integral triple usada en teroía electromagnética.\n",
    "\n",
    "\n",
    "\n",
    "### 1.3 Modelo que representa el problema.\n",
    "\n"
   ]
  },
  {
   "cell_type": "markdown",
   "metadata": {},
   "source": [
    "Ejercicio de Ley de Gauss\n",
    "\n",
    "Encontrar el campo eléctrico dentro y fuera de una esfera de densidad volumétrica de carga\n",
    "uniforme de $\\rho$ y de radio r=10, a una distancia z=20 del centro.\n",
    "\n"
   ]
  },
  {
   "cell_type": "markdown",
   "metadata": {},
   "source": [
    "\\begin{equation}\n",
    "    \\vec{E}=\\frac{1}{4 \\pi \\varepsilon_{0}} \\int \\frac{\\rho d \\tau}{|R|^{2}} \\hat{R}\n",
    "\\end{equation}\n",
    "\n",
    "\\begin{equation}\n",
    "    d q=\\rho d \\tau\n",
    "\\end{equation}\n",
    "\n",
    "\\begin{equation}\n",
    "    d \\tau=r^{2} \\operatorname{sen} \\theta d r d \\theta d \\varphi\n",
    "\\end{equation}\n",
    "\n",
    "\\begin{equation}\n",
    "    \\vec{E}=\\frac{\\rho}{4 \\pi \\varepsilon_{0}} \\int_{0}^{2 \\pi} \\int_{0}^{\\pi} \\int_{0}^{a} \\frac{r^{2} \\operatorname{sen} \\theta d r d \\theta d \\varphi}{|R|^{2}}\\hat{R}\n",
    "\\end{equation}\n",
    "\n",
    "\\begin{equation}\n",
    "    |R|=\\sqrt{r^{2}-2 z r \\cos \\theta+z^{2}}\n",
    "\\end{equation}\n",
    "\n",
    "\\begin{equation}\n",
    "    \\hat{R}=\\frac{R}{|R|}=\\frac{z k-r \\hat{r}}{\\sqrt{r^{2}-2 z r \\cos \\theta + z^{2}}}\n",
    "\\end{equation}\n",
    "\n",
    "\\begin{equation}\n",
    "    \\hat{r}=\\operatorname{sen} \\theta \\cos \\varphi \\hat{\\imath}+\\operatorname{sen} \\theta \\operatorname{sen} \\varphi \\hat{\\jmath}+\\cos \\theta \\hat{k}\n",
    "\\end{equation}\n",
    "\n",
    "\\begin{equation}\n",
    "    \\vec{E}=\\frac{\\rho}{4 \\pi \\varepsilon_{0}} \\int_{0}^{2 \\pi} \\int_{0}^{a} \\int_{0}^{\\pi} \\frac{r^{2} \\operatorname{sen} \\theta(z-r \\cos \\theta) d r d \\varphi d \\theta}{\\left(z^{2}+r^{2}-2 z r \\cos \\theta\\right)^{3 / 2}} \\hat{k}\n",
    "\\end{equation}"
   ]
  },
  {
   "cell_type": "markdown",
   "metadata": {},
   "source": [
    "### 1.4 Solución del problema."
   ]
  },
  {
   "cell_type": "code",
   "execution_count": 1,
   "metadata": {},
   "outputs": [],
   "source": [
    "import numpy as np\n",
    "import pandas as pd"
   ]
  },
  {
   "cell_type": "code",
   "execution_count": 2,
   "metadata": {},
   "outputs": [],
   "source": [
    "def integral(r, theta, phi):\n",
    "    return (((r**2)*(np.sin(theta))*(20-r*np.cos(theta)))/(400+r**2-2*r*20*np.cos(theta))**(3/2))"
   ]
  },
  {
   "cell_type": "code",
   "execution_count": 3,
   "metadata": {},
   "outputs": [],
   "source": [
    "def MC(integral,a1,b1,a2,b2,a3,b3,N):\n",
    "    V=(b1-a1)*(b2-a2)*(b3-a3)\n",
    "    r=np.random.uniform(a1,b1,N.astype(int))\n",
    "    theta=np.random.uniform(a2,b2,N.astype(int))\n",
    "    phi=np.random.uniform(a3,b3,N.astype(int))\n",
    "    return V*np.sum(integral(r,theta,phi))/N"
   ]
  },
  {
   "cell_type": "markdown",
   "metadata": {},
   "source": [
    "### 1.5 Visualización de la solución del problema."
   ]
  },
  {
   "cell_type": "code",
   "execution_count": 4,
   "metadata": {},
   "outputs": [
    {
     "data": {
      "text/html": [
       "<div>\n",
       "<style scoped>\n",
       "    .dataframe tbody tr th:only-of-type {\n",
       "        vertical-align: middle;\n",
       "    }\n",
       "\n",
       "    .dataframe tbody tr th {\n",
       "        vertical-align: top;\n",
       "    }\n",
       "\n",
       "    .dataframe thead th {\n",
       "        text-align: right;\n",
       "    }\n",
       "</style>\n",
       "<table border=\"1\" class=\"dataframe\">\n",
       "  <thead>\n",
       "    <tr style=\"text-align: right;\">\n",
       "      <th></th>\n",
       "      <th>Aprox integral triple</th>\n",
       "    </tr>\n",
       "  </thead>\n",
       "  <tbody>\n",
       "    <tr>\n",
       "      <th>10.0</th>\n",
       "      <td>12.3725</td>\n",
       "    </tr>\n",
       "    <tr>\n",
       "      <th>100.0</th>\n",
       "      <td>11.9758</td>\n",
       "    </tr>\n",
       "    <tr>\n",
       "      <th>1000.0</th>\n",
       "      <td>9.94179</td>\n",
       "    </tr>\n",
       "    <tr>\n",
       "      <th>10000.0</th>\n",
       "      <td>10.4503</td>\n",
       "    </tr>\n",
       "    <tr>\n",
       "      <th>100000.0</th>\n",
       "      <td>10.4163</td>\n",
       "    </tr>\n",
       "    <tr>\n",
       "      <th>1000000.0</th>\n",
       "      <td>10.4569</td>\n",
       "    </tr>\n",
       "    <tr>\n",
       "      <th>10000000.0</th>\n",
       "      <td>10.4742</td>\n",
       "    </tr>\n",
       "  </tbody>\n",
       "</table>\n",
       "</div>"
      ],
      "text/plain": [
       "           Aprox integral triple\n",
       "10.0                     12.3725\n",
       "100.0                    11.9758\n",
       "1000.0                   9.94179\n",
       "10000.0                  10.4503\n",
       "100000.0                 10.4163\n",
       "1000000.0                10.4569\n",
       "10000000.0               10.4742"
      ]
     },
     "execution_count": 4,
     "metadata": {},
     "output_type": "execute_result"
    }
   ],
   "source": [
    "a1,b1,a2,b2,a3,b3=0,10,0,np.pi,0,2*np.pi\n",
    "N=np.logspace(1,7,7)\n",
    "\n",
    "df=pd.DataFrame(index=N,columns=['Aprox integral triple'])\n",
    "\n",
    "for n in N:\n",
    "    df.loc[n,'Aprox integral triple']= MC(integral,a1,b1,a2,b2,a3,b3,n)\n",
    "df"
   ]
  },
  {
   "cell_type": "markdown",
   "metadata": {},
   "source": [
    "Este resultado es solo lo que está dentro de la integral, poniendo los coeficientes por los que se multiplicaba:\n",
    "\n",
    "\\begin{equation} \\frac{\\rho*10.4754}{4 \\pi \\varepsilon_{0}}= \\frac{\\rho*0.83}{\\varepsilon_{0}} \\end{equation} "
   ]
  },
  {
   "cell_type": "markdown",
   "metadata": {},
   "source": [
    "Resolviendo la integral con Wolfram, obtenemos lo siguiente:\n",
    "\n",
    "\\begin{equation}\\frac{\\rho a^{3}}{3 \\varepsilon_{0} z^{2}} \\hat{k} =\\frac{\\rho 0.83}{\\varepsilon_{0} }\\end{equation}"
   ]
  },
  {
   "cell_type": "markdown",
   "metadata": {},
   "source": [
    "### 1.6 Conclusiones\n",
    "Con la integración Monte Carlo pudimos realizar una integral triple en cordenadas esféricas, para poder encontrar el campo eléctrico de un cascarón esférico. Dicho resultado se comparó con el resultado analítico y son los mismos, esto quiere decir que la integración Monte Carlo se acerco bastante bien."
   ]
  },
  {
   "attachments": {},
   "cell_type": "markdown",
   "metadata": {},
   "source": [
    "\n",
    "### 1.7 Referencias.\n",
    "Sarway (2008) Física para ciencias e ingeniería. Pearson.\n",
    "\n",
    "Griffits,D.(2015).Introducction to Electrodynamics.India:Pearson"
   ]
  }
 ],
 "metadata": {
  "kernelspec": {
   "display_name": "Python 3",
   "language": "python",
   "name": "python3"
  },
  "language_info": {
   "codemirror_mode": {
    "name": "ipython",
    "version": 3
   },
   "file_extension": ".py",
   "mimetype": "text/x-python",
   "name": "python",
   "nbconvert_exporter": "python",
   "pygments_lexer": "ipython3",
   "version": "3.7.1"
  }
 },
 "nbformat": 4,
 "nbformat_minor": 2
}
